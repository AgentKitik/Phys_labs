{
 "cells": [
  {
   "cell_type": "markdown",
   "metadata": {},
   "source": [
    "## Лабораторная работа 8.1.\n",
    "## Определение постоянных Стефана-Больцмана и Планка из анализа излучения накаленного тела.\n"
   ]
  },
  {
   "cell_type": "markdown",
   "metadata": {},
   "source": [
    "***Ход работы:***\n",
    "\n",
    "* Проводим измерения с помощью пирометра для определения значения яркостной температуры модели АЧТ (она равна его термодинамической температуре):\n",
    "\n",
    "$T_{яр}=901$ $ ^oC$\n",
    "\n",
    "* Одновременно измеряем температуру модели АЧТ при помощи термопары и вольтметра (постоянная термопары 41 $мкв/^oC$, температура модели АЧТ измеряется термопарой относительно температуры комнаты):\n",
    "\n",
    "$T=898$ $ ^oC$\n",
    "\n",
    "Значения температуры, полученные обоими способами, мало отличаются друг от друга (не более 5%), следовательно оптический пирометр работает исправно:\n",
    "\n",
    "$\\Delta T$=901-988=3 ($^oC$) \n",
    "\n",
    "$\\frac{\\Delta T}{T}$=0.3 %"
   ]
  },
  {
   "cell_type": "markdown",
   "metadata": {},
   "source": [
    "*** Измерение яркостной температуры накаленных тел ***\n",
    "\n",
    "Различные тела, накаленные до одинаковой термодинамической температуры, имеют различную яркостную температуру.\n",
    "\n",
    "Левое кольцо: $T_{яр}=750$ $ ^oC$\n",
    "\n",
    "Правое кольцо: $T_{яр}<750$ $ ^oC$\n",
    "\n",
    "Поверхность трубки: $T_{яр}=817$ $ ^oC$\n"
   ]
  },
  {
   "cell_type": "markdown",
   "metadata": {},
   "source": [
    "*** Проверка закона Стефана-Больцмана ***\n",
    "\n",
    "* Измеряем пирометром яркостную температуру нити лампы накаливания примерно через каждые 100 $ ^oC$ (с 900 $ ^oC$ до 1900 $ ^oC$). Также записываем величину тока и падения напряжения на нити лампы.\n",
    "\n",
    "\n",
    "* Для каждого значения измеренной яркостной температуры найдем термодинамическую температуру вольфрамовой нити лампы, пользуясь графиком $T=f_1(T_{ярк})$\n"
   ]
  },
  {
   "cell_type": "code",
   "execution_count": 3,
   "metadata": {
    "collapsed": false
   },
   "outputs": [
    {
     "name": "stdout",
     "output_type": "stream",
     "text": [
      "[914.0163934426229, 1023.7704918032787, 1132.4590163934427, 1236.8852459016393, 1343.4426229508197, 1461.7213114754097, 1545.9016393442623, 1653.5245901639344, 1759.016393442623, 1862.3770491803277, 1971.0655737704917]\n"
     ]
    }
   ],
   "source": [
    "T_yark=[907, 1010, 1112, 1210, 1310, 1421, 1500, 1601, 1700, 1797, 1899]\n",
    "T=[]\n",
    "for t in T_yark:\n",
    "    T.append(65*t/61-3200/61)\n",
    "    \n",
    "print(T)"
   ]
  },
  {
   "cell_type": "markdown",
   "metadata": {},
   "source": [
    "* Вычислим для каждого значения термодинамической температуры мощность, потребляемую нитью лампы. Результаты представим в виде графика $W=f_2(T)$:\n",
    "\n",
    "$W=U I$\n",
    "\n",
    "$W=\\epsilon _T S \\sigma T^4$"
   ]
  },
  {
   "cell_type": "code",
   "execution_count": 4,
   "metadata": {
    "collapsed": false
   },
   "outputs": [
    {
     "data": {
      "image/png": "[encoded data removed]",
      "text/plain": [
       "<matplotlib.figure.Figure at 0x174abe1cd30>"
      ]
     },
     "metadata": {},
     "output_type": "display_data"
    }
   ],
   "source": [
    "import matplotlib.pyplot as plt\n",
    "import numpy as np\n",
    "\n",
    "T_epsilon=[800, 900, 1000, 1100, 1200, 1300, 1400, 1500, 1600, 1700, 1800, 1900, 2000]\n",
    "epsilon=[0.067, 0.081, 0.105, 0.119, 0.133, 0.144, 0.164, 0.179, 0.195, 0.209, 0.223, 0.236, 0.249]\n",
    "\n",
    "plt.plot(T_epsilon,epsilon, 'bo')\n",
    "plt.xlabel('$T, K$',size=20)\n",
    "plt.ylabel('$\\epsilon _T$',size=20)\n",
    "\n",
    "#Легенда\n",
    "#plt.text(0.7,1600,'T=30 C',size=14)\n",
    "\n",
    "plt.grid()\n",
    "plt.show()"
   ]
  },
  {
   "cell_type": "code",
   "execution_count": 5,
   "metadata": {
    "collapsed": true
   },
   "outputs": [],
   "source": [
    "def linearfunc_koeff(x1, y1):\n",
    "    sumxy=0\n",
    "    sumx2=0\n",
    "    sumy2=0\n",
    "    sumx=0\n",
    "    sumy=0\n",
    "    \n",
    "    n=len(x1)\n",
    "\n",
    "    for x,y in zip(x1, y1):\n",
    "        sumx+=x\n",
    "        sumy+=y\n",
    "        sumxy+=x*y\n",
    "        sumx2+=x**2\n",
    "        sumy2+=y**2\n",
    "\n",
    "    sr_xy=sumxy/n\n",
    "    sr_x2=sumx2/n\n",
    "    sr_y2=sumy2/n\n",
    "    srx=sumx/n\n",
    "    sry=sumy/n\n",
    "\n",
    "    b=(sr_xy-srx*sry)/(sr_x2-srx**2)\n",
    "    sigmab=(1/n**0.5)*((sr_y2-sry**2)/(sr_x2-srx**2)-b**2)**0.5\n",
    "    a=sry-b*srx\n",
    "    sigmaa=sigmab*(sr_x2-srx**2)**0.5\n",
    "    \n",
    "    return (b, sigmab, a, sigmaa) #y=a+bx"
   ]
  },
  {
   "cell_type": "code",
   "execution_count": 22,
   "metadata": {
    "collapsed": false
   },
   "outputs": [
    {
     "name": "stdout",
     "output_type": "stream",
     "text": [
      "epsilon=-0.0511 + 0.000152 * T\n"
     ]
    }
   ],
   "source": [
    "b, sigmab, a, sigmaa = linearfunc_koeff(T_epsilon, epsilon)\n",
    "\n",
    "print('epsilon={:.3} + {:.3} * T'.format(a,b))"
   ]
  },
  {
   "cell_type": "code",
   "execution_count": 7,
   "metadata": {
    "collapsed": false
   },
   "outputs": [
    {
     "name": "stdout",
     "output_type": "stream",
     "text": [
      "[0.0879339218158891, 0.10462619347865257, 0.1211564042514863, 0.13703837146460102, 0.15324446045757525, 0.1712332192397766, 0.18403602954422627, 0.20040417942713024, 0.21644820753017474, 0.23216811385335967, 0.2486983246261934]\n"
     ]
    }
   ],
   "source": [
    "eps_T=[]\n",
    "for t in T:\n",
    "    eps_T.append(-0.05107692307692285 + 0.00015208791208791195 * t)\n",
    "    \n",
    "print(eps_T)"
   ]
  },
  {
   "cell_type": "code",
   "execution_count": 16,
   "metadata": {
    "collapsed": false
   },
   "outputs": [
    {
     "name": "stdout",
     "output_type": "stream",
     "text": [
      "Wall time: 7.29 s\n"
     ]
    },
    {
     "data": {
      "text/plain": [
       "4999999950000000"
      ]
     },
     "execution_count": 16,
     "metadata": {},
     "output_type": "execute_result"
    }
   ],
   "source": [
    "%%time\n",
    "sum(range(100000000))"
   ]
  },
  {
   "cell_type": "code",
   "execution_count": 17,
   "metadata": {
    "collapsed": false
   },
   "outputs": [
    {
     "name": "stdout",
     "output_type": "stream",
     "text": [
      "Wall time: 614 ms\n"
     ]
    },
    {
     "data": {
      "text/plain": [
       "887459712"
      ]
     },
     "execution_count": 17,
     "metadata": {},
     "output_type": "execute_result"
    }
   ],
   "source": [
    "%%time\n",
    "np.arange(100000000).sum()"
   ]
  },
  {
   "cell_type": "code",
   "execution_count": 8,
   "metadata": {
    "collapsed": false
   },
   "outputs": [
    {
     "data": {
      "image/png": "[encoded data removed]",
      "text/plain": [
       "<matplotlib.figure.Figure at 0x174abe30b70>"
      ]
     },
     "metadata": {},
     "output_type": "display_data"
    }
   ],
   "source": [
    "U=[1.71, 1.87, 2.28, 2.72, 3.07, 4.38, 4.62, 5.51, 5.83, 6.73, 7.50]\n",
    "I0= np.array([0.523, 0.542, 0.588, 0.634, 0.670, 0.793, 0.814, 0.889, 0.914, 0.984, 1.041])\n",
    "I = I0**-3\n",
    "# I=[i*10**(-3) for i in I0]\n",
    "W=[] # в ваттах будет\n",
    "for i in range(len(U)):\n",
    "    W.append(U[i]*I[i])\n",
    "\n",
    "plt.plot(T,W, 'bo')\n",
    "plt.xlabel('$T, K$',size=20)\n",
    "plt.ylabel('$W, Вт$',size=20)\n",
    "\n",
    "#Легенда\n",
    "#plt.text(0.7,1600,'T=30 C',size=14)\n",
    "\n",
    "plt.grid()\n",
    "plt.show()"
   ]
  },
  {
   "cell_type": "markdown",
   "metadata": {},
   "source": [
    "* Для проверки закона Стефана-Больцмана построим в логарифмическом масштабе график зависимости $W=\\epsilon _T B T^n$, т.е. функцию $lnW=ln(\\epsilon _T B) + n lnT$ и определим величину n как тангенс угла наклона прямой в области высоких температур (когда мощность, подводимая к нити, практически полностью расходуется на излучение). Величина n должна быть близка к 4.\n",
    "\n"
   ]
  },
  {
   "cell_type": "markdown",
   "metadata": {},
   "source": [
    "$lnW-ln(\\epsilon _T B) = n lnT$"
   ]
  },
  {
   "cell_type": "code",
   "execution_count": 15,
   "metadata": {
    "collapsed": false
   },
   "outputs": [
    {
     "data": {
      "image/png": "[encoded data removed]",
      "text/plain": [
       "<matplotlib.figure.Figure at 0x174abebed30>"
      ]
     },
     "metadata": {},
     "output_type": "display_data"
    }
   ],
   "source": [
    "# lnW=[np.log(w) for w in W]\n",
    "# lnT=[np.log(t) for t in T]\n",
    "lnW = np.log(W)\n",
    "lnT = np.log(T)\n",
    "deltaW = lnW - np.log(eps_T)\n",
    "# deltaW= [lnW[i]-np.log(eps_T[i]) for i in range(len(T))]\n",
    "\n",
    "#print(lnT, deltaW)\n",
    "\n",
    "plt.plot(lnT,deltaW, 'bo')\n",
    "plt.xlabel('$lnT$',size=20)\n",
    "plt.ylabel('$lnW$',size=20)\n",
    "\n",
    "#Легенда\n",
    "#plt.text(0.7,1600,'T=30 C',size=14)\n",
    "\n",
    "plt.grid()\n",
    "plt.show()"
   ]
  },
  {
   "cell_type": "code",
   "execution_count": 14,
   "metadata": {
    "collapsed": false
   },
   "outputs": [
    {
     "name": "stdout",
     "output_type": "stream",
     "text": [
      "n= 1.5089956806156792 +- 0.138348893848172\n"
     ]
    }
   ],
   "source": [
    "lnT_new=[ 7.2873700007133024, 7.3433626044482381, 7.4106644038951401, 7.4725100644454789, 7.529608934211792, 7.5863295758892599]\n",
    "deltaW_new=[-3.8979098154592302, -3.8905317590664832, -3.7114296447214494, -3.7042589998004116, -3.557015976201233, -3.4611558040864141]\n",
    "\n",
    "b, sigmab, a, sigmaa = linearfunc_koeff(lnT_new, deltaW_new)\n",
    "\n",
    "print('n=',b,'+-', sigmab)"
   ]
  },
  {
   "cell_type": "markdown",
   "metadata": {},
   "source": [
    "$B= S \\sigma$"
   ]
  },
  {
   "cell_type": "markdown",
   "metadata": {},
   "source": [
    "* Найдем величину постоянной Стефана-Больцмана по формуле $\\sigma = \\frac{W}{\\epsilon _T S T^4}$ для каждого измеренного значения Т, превышающего 1700 К."
   ]
  },
  {
   "cell_type": "code",
   "execution_count": 20,
   "metadata": {
    "collapsed": false
   },
   "outputs": [
    {
     "name": "stdout",
     "output_type": "stream",
     "text": [
      "[7.142968061486249e-11, 6.586195906382093e-11, 5.777398730746128e-11]\n"
     ]
    }
   ],
   "source": [
    "sigma=[W[i]/(eps_T[i]*0.36*10**(-4)*T[i]**4) for i in range(8,11)]\n",
    "print(sigma)\n",
    "s1=sigma[1] # это типа в си\n"
   ]
  },
  {
   "cell_type": "markdown",
   "metadata": {},
   "source": [
    "* По найденным значениям $\\sigma$ определим величину постоянной Планка h по формуле $h=\\sqrt[3]{\\frac{2 \\pi ^5 k_Б^4}{15 c^2 \\sigma}}$"
   ]
  },
  {
   "cell_type": "code",
   "execution_count": 21,
   "metadata": {
    "collapsed": false
   },
   "outputs": [
    {
     "name": "stdout",
     "output_type": "stream",
     "text": [
      "2.922642961044753e-22\n"
     ]
    }
   ],
   "source": [
    "h=(2*(np.pi**5)*(1.38**4)*10**(-23*4)/15/(3**2)*(10**16)/s1)**(1/3)\n",
    "print(h)"
   ]
  },
  {
   "cell_type": "markdown",
   "metadata": {
    "collapsed": true
   },
   "source": [
    "Вопросы: \n",
    "\n",
    "Распределение планка\n",
    "\n",
    "Идеальный фотонный газ\n",
    "\n",
    "Закон стеф больцмана\n",
    "\n",
    "\n",
    "*** Идеальный фотонный газ ***\n",
    "\n",
    "Термодинамика фотонного газа рассматривает электромагнитное излучение, используя понятия и методы термодинамики.\n",
    "\n",
    "Электромагнитное излучение с корпускулярной точки зрения представляет собой фотонный газ с переменным числом частиц. Распространение понятий, законов и методов термодинамики на фотонный газ подразумевает, что электромагнитное излучение допустимо рассматривать как термическую систему, то есть как объект изучения, к которому применимо понятие температуры излучения.\n",
    "\n",
    "Особенности фотонного газа\n",
    "\n",
    "* Масса покоя фотона равна нулю.\n",
    "* Фотон электронейтрален, всегда движется со скоростью света (ультрарелятивистская частица) и обладает энергией, импульсом и равным 1 спином, то есть относится к бозонам. При неупругом столкновении с частицей вещества фотон исчезает, передавая свои энергию и импульс этой частице.\n",
    "* Квантовая электродинамика допускает взаимодействие фотонов друг с другом, однако вероятность такого их поведения исчезающе мала, поэтому фотоны внутри некоторого объёма обычно рассматривают как совокупность не взаимодействующих между собой частиц, то есть как идеальный бозе-газ.\n",
    "\n",
    "В состоянии равновесия электромагнитное излучение (фотонный газ) внутри полости в абсолютно чёрном теле характеризуют теми же термодинамическими величинами, что и обычный газ: объёмом, давлением, температурой, внутренней энергией, энтропией и т. д. Излучение оказывает давление на стенки полости за счёт того, что фотоны обладают импульсом; температура равновесного фотонного газа совпадает с температурой стенок. \n",
    "\n",
    "Основные термодинамические соотношения для равновесного теплового излучения (фотонного газа):\n",
    "\n",
    "Давление\n",
    "\n",
    "${\\displaystyle P={\\frac {\\alpha }{3}}T^{4},} $\t(Термическое уравнение состояния)\n",
    "\n",
    "где α — радиационная постоянная, связанная с постоянной Стефана — Больцмана σ соотношением\n",
    "\n",
    "${\\displaystyle \\alpha ={\\frac {4\\sigma }{c}},} $\t(Радиационная постоянная)\n",
    "(c — скорость света в вакууме).\n",
    "\n",
    "В выражение для давления, представляющее собой термическое уравнение состояния фотонного газа, не входит объём, то есть фотонный газ представляет собой систему с одной термодинамической степенью свободы. В качестве единственной независимой переменной, используемой для описания состояние фотонного газа, традиционно выбирают температуру. Это означает, что для фотонного газа термическое равновесие есть необходимое и достаточное условие равновесия термодинамического, то есть в данном конкретном случае эти понятия эквивалентны друг другу.\n",
    "\n",
    "Внутренняя энергия как функция температуры (закон Стефана — Больцмана):\n",
    "\n",
    "$ {\\displaystyle U=\\alpha VT^{4}.} $\t(Калорическое уравнение состояния для внутренней энергии)\n",
    "\n",
    "Из этого выражения видно, что внутренняя энергия фотонного газа аддитивна по объёму. Важно, что от объёма системы зависит число находящихся в нём фотонов и, следовательно, энергия теплового излучения и другие аддитивные функции состояния, но не плотности этих величин, которые зависят только от температуры. \n",
    "\n",
    "$ {\\displaystyle u\\equiv {\\frac {U}{V}}=\\alpha T^{4}.} $\t(Калорическое уравнение состояния для внутренней энергии)\n",
    "\n",
    "С использованием внутренней энергии в качестве независимой переменной термическое уравнение состояния фотонного газа:\n",
    "\n",
    "$ {\\displaystyle PV={\\frac {1}{3}}U,} $ (Термическое уравнение состояния)\n",
    "\n",
    "или так:\n",
    "\n",
    "$ {\\displaystyle P={\\frac {1}{3}}u.} $"
   ]
  },
  {
   "cell_type": "code",
   "execution_count": null,
   "metadata": {
    "collapsed": true
   },
   "outputs": [],
   "source": []
  }
 ],
 "metadata": {
  "kernelspec": {
   "display_name": "Python 3",
   "language": "python",
   "name": "python3"
  },
  "language_info": {
   "codemirror_mode": {
    "name": "ipython",
    "version": 3
   },
   "file_extension": ".py",
   "mimetype": "text/x-python",
   "name": "python",
   "nbconvert_exporter": "python",
   "pygments_lexer": "ipython3",
   "version": "3.5.2"
  }
 },
 "nbformat": 4,
 "nbformat_minor": 1
}
