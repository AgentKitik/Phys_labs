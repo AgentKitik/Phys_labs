{
 "cells": [
  {
   "cell_type": "markdown",
   "metadata": {},
   "source": [
    "## Лабораторная работа 1.1.\n",
    "## Экспериментальная проверка уравнения Эйнштейна для фотоэффекта и определение постоянной Планка.\n",
    "\n",
    "\n"
   ]
  },
  {
   "cell_type": "markdown",
   "metadata": {},
   "source": [
    "***Задание:***\n",
    "\n",
    "1) прокалибровать барабан монохроматора по спектру неоновой лампы;\n",
    "\n",
    "2) снять зависимость фототока от потенциала катода для 6-8 длин волн в диапазоне 540-700 нм;\n",
    "\n",
    "3) по результатам измерений определить постоянную Планка и оценить работу выхода материала катода."
   ]
  },
  {
   "cell_type": "markdown",
   "metadata": {},
   "source": [
    " <center> ***Величины, непосредственно измеренные в ходе эксперимента *** </center>\n",
    "\n",
    "***Проградуируем барабан монохроматора по спектру неоновой лампы:***\n",
    "\n",
    "* Длины волн спектральных линий неона, ангстрем:\n",
    "\n",
    "[5852, 5882, 6030, 6143, 6267, 6334, 6402, 6507, 6599, 6717, 6929, 7032, 5401, 5331]\n",
    "\n",
    "* Барабан, делений:\n",
    "\n",
    "[2142, 2160, 2224, 2279, 2333, 2360, 2386, 2426, 2454, 2490, 2556, 2590, 1878, 1828]\n",
    "\n"
   ]
  },
  {
   "cell_type": "markdown",
   "metadata": {},
   "source": [
    "***Исследуем зависимость фототока от потенциала на фотоэлементе (от $I_{max}$ до $I=0$) для минимальной длины волны исследуемого спектрального интервала:***"
   ]
  },
  {
   "cell_type": "markdown",
   "metadata": {},
   "source": [
    "Для $\\lambda$ = 1850 дел = 540 нм\n",
    "\n",
    "$V$ \\~ [6.877, 6.010, 5.5, 5.017, 4.515, 4.032, 3.5, 3, 2.501, 2.01, 1.534, 1.040, 0.710, 0.313, 0.105, 0.040 ]\n",
    "\n",
    "$I$ \\~ [0.573, 0.560, 0.551, 0.541, 0.530, 0.515, 0.5, 0.478, 0.444, 0.398, 0.309, 0.195, 0.138, 0.074, 0.052, -0.01]"
   ]
  },
  {
   "cell_type": "markdown",
   "metadata": {},
   "source": [
    "Построим предварительный график $I=f(V)$:"
   ]
  },
  {
   "cell_type": "code",
   "execution_count": 15,
   "metadata": {
    "collapsed": false,
    "scrolled": true
   },
   "outputs": [
    {
     "data": {
      "image/png": "[encoded data removed]",
      "text/plain": [
       "<matplotlib.figure.Figure at 0x157f1048e48>"
      ]
     },
     "metadata": {},
     "output_type": "display_data"
    }
   ],
   "source": [
    "x1=[6.877, 6.010, 5.5, 5.017, 4.515, 4.032, 3.5, 3, 2.501, 2.01, 1.534, 1.040, 0.710, 0.313, 0.105, 0.040 ]\n",
    "y1=[0.573, 0.560, 0.551, 0.541, 0.530, 0.515, 0.5, 0.478, 0.444, 0.398, 0.309, 0.195, 0.138, 0.074, 0.052, -0.01]\n",
    "x=[0]\n",
    "y=[0]\n",
    "\n",
    "n=len(x1)\n",
    "\n",
    "plt.plot(x1,y1, 'bo', x, y, 'w-')\n",
    "plt.xlabel('$V$',size=20)\n",
    "plt.ylabel('$I$',size=20)\n",
    "\n",
    "#Легенда\n",
    "#plt.text(0.7,1600,'T=30 C',size=14)\n",
    "\n",
    "\n",
    "plt.grid()\n",
    "plt.show()"
   ]
  },
  {
   "cell_type": "markdown",
   "metadata": {},
   "source": [
    "Из графика определяем приближенно диапазон значений V, при котором графики можно экстраполировать квадратичной зависимостью (кривые при малых значениях фототока): $V$ от 1 до 6"
   ]
  },
  {
   "cell_type": "markdown",
   "metadata": {},
   "source": [
    "***Снимем зависимости фототока от напряжения для 6-8 длин волн в интервале 540-700 нм (меняя $V$ в выбранном диапазоне):***"
   ]
  },
  {
   "cell_type": "markdown",
   "metadata": {},
   "source": [
    "* $\\lambda$ = 5401 A\n",
    "\n",
    "$V$ \\~ [-0.373, -0.314, -0.203, -0.092, -0.010, 0.078, 0.108, 0.152, 0.2, 0.285, 0.502, 1.044, 1.283, 1.555, 1.870, 2.041, 2.455]\n",
    "\n",
    "$I$ \\~ [0.001, 0.008, 0.021, 0.035, 0.046, 0.059, 0.062, 0.069, 0.076, 0.090, 0.126, 0.246, 0.298, 0.352, 0.402, 0.425, 0.460]"
   ]
  },
  {
   "cell_type": "markdown",
   "metadata": {},
   "source": [
    "* $\\lambda$ = 2000 дел\n",
    "\n",
    "$V$ \\~ [-0.199, -0.121, -0.010, 0.086, 0.178, 0.242, 0.469, 0.526, 0.634, 0.801, 1.092, 1.572, 1.864, 2.108, 2.301]\n",
    "\n",
    "$I$ \\~ [0.007, 0.02, 0.036, 0.053, 0.067, 0.077, 0.123, 0.132, 0.156, 0.195, 0.270, 0.384, 0.425, 0.452, 0.472]\n"
   ]
  },
  {
   "cell_type": "markdown",
   "metadata": {},
   "source": [
    "* $\\lambda$ = 2150 дел\n",
    "\n",
    "$V$ \\~ [-0.151, -0.121, -0.011, -0.009, 0.08, 0.106, 0.145, 0.265, 0.310, 0.600, 0.866, 1.164, 1.594, 2.020, 2.339, 2.565, 1.645, 1.361]\n",
    "\n",
    "$I$ \\~  [0.014, 0.019, 0.049, 0.052, 0.066, 0.071, 0.076, 0.101, 0.110, 0.181, 0.250, 0.332, 0.415, 0.462, 0.484, 0.498, 0.414, 0.365]"
   ]
  },
  {
   "cell_type": "markdown",
   "metadata": {},
   "source": [
    "* $\\lambda$ = 2300 дел\n",
    "\n",
    "$V$ \\~ [-0.118, -0.102. -0.011, 0.082, 0.119, 0.166, 0.260, 0.308, 0.562, 0.721, 0.830, 0.999, 1.207, 1.327, 1.579, 1.715, 2.000, 2.298]\n",
    "\n",
    "$I$ \\~  [0.013, 0.017, 0.031, 0.049, 0.055, 0.065, 0.087, 0.093, 0.187, 0.23, 0.255, 0.3, 0.352, 0.376, 0.417, 0.434, 0.460, 0.488]"
   ]
  },
  {
   "cell_type": "markdown",
   "metadata": {},
   "source": [
    "* $\\lambda$ = 2500 дел\n",
    "\n",
    "$V$ \\~ [-0.288, -0.104, -0.010, 0.064, 0.130, 0.155, 0.196, 0.253, 0.294, 0.367, 0.508, 0.5510.686, 0.76, 0.830, 0.945, 1.127, 1.344, 1.487, 1.624, 1.781, 1.878, 2.020, 2.125, 2.262]\n",
    "\n",
    "$I$ \\~  [0.003, 0.008, 0.015, 0.023, 0.032, 0.035, 0.042, 0.060, 0.06, 0.074, 0.098, 0.106, 0.14, 0.15, 0.161, 0.195, 0.240, 0.292, 0.325, 0.348, 0375, 0.386, 0.410, 0.421, 0.433]"
   ]
  },
  {
   "cell_type": "markdown",
   "metadata": {},
   "source": [
    "Найдем значения $\\lambda$ и их погрешности:\n",
    "\n",
    "$\\lambda$, дел | 1878 | 2000 | 2150 |  2300 | 2500\n",
    " :---: | :---: | :---: | :---: | :---: |:---:\n",
    " $\\lambda$, А | 5401 | 5600 | 5931.5 | 6263 |  6705\n",
    " $\\sigma_{\\lambda}$, А | 20 | 21 | 21 | 21 | 21\n",
    " \n",
    " \n",
    " $\\lambda$, дел | 1878 | 2000 | 2150 |  2300 | 2500\n",
    " :---: | :---: | :---: | :---: | :---: |:---:\n",
    " $\\lambda$, нм | 540 | 560 | 593 | 626 |  671\n",
    " $\\sigma_{\\lambda}$, нм | 2 | 2 | 2 | 2 | 2"
   ]
  },
  {
   "cell_type": "markdown",
   "metadata": {},
   "source": [
    "$\\lambda [A] = y[А]=a[А]+b[А/дел]*x[дел] = a[А]+b[А/дел]*{\\lambda}[дел] $\n",
    "\n",
    "$a=1180$ A, $\\sigma_{a} =20$ A\n",
    "\n",
    "$b=2.21$ A/дел, $\\sigma_{b} =0.09$ A/дел"
   ]
  },
  {
   "cell_type": "markdown",
   "metadata": {},
   "source": [
    "$\\sigma_{\\lambda [A]} = \\sqrt{\\sigma_a^2 + x^2 \\sigma_b^2 + b^2 \\sigma_x^2}$"
   ]
  },
  {
   "cell_type": "code",
   "execution_count": 13,
   "metadata": {
    "collapsed": false
   },
   "outputs": [
    {
     "name": "stdout",
     "output_type": "stream",
     "text": [
      "6705.0\n"
     ]
    },
    {
     "data": {
      "text/plain": [
       "20.618780274303326"
      ]
     },
     "execution_count": 13,
     "metadata": {},
     "output_type": "execute_result"
    }
   ],
   "source": [
    "import numpy as np\n",
    "\n",
    "print(1180 + 2.21*(2500))\n",
    "\n",
    "np.sqrt(20**2 + 0.09**2*(2500) + 1*2.21**2)"
   ]
  },
  {
   "cell_type": "markdown",
   "metadata": {},
   "source": [
    "<center> ***Обработка результатов***  </center>"
   ]
  },
  {
   "cell_type": "markdown",
   "metadata": {},
   "source": [
    "***Построим градуировочную кривую монохроматора:***"
   ]
  },
  {
   "cell_type": "code",
   "execution_count": 16,
   "metadata": {
    "collapsed": false
   },
   "outputs": [
    {
     "data": {
      "image/png": "[encoded data removed]",
      "text/plain": [
       "<matplotlib.figure.Figure at 0x157f10e0a90>"
      ]
     },
     "metadata": {},
     "output_type": "display_data"
    }
   ],
   "source": [
    "import matplotlib.pyplot as plt\n",
    "import numpy as np\n",
    "\n",
    "x1=[2142, 2160, 2224, 2279, 2333, 2360, 2386, 2426, 2454, 2490, 2556, 2590, 1878, 1828]\n",
    "y1=[5852, 5882, 6030, 6143, 6267, 6334, 6402, 6507, 6599, 6717, 6929, 7032, 5401, 5331]\n",
    "x=[0]\n",
    "y=[0]\n",
    "\n",
    "n=len(x1)\n",
    "\n",
    "plt.plot( x1,y1,'bo') #, x, y, 'w-')\n",
    "#plt.xlabel('$τ, мкс$',size=20)\n",
    "#plt.ylabel('$N_0, 10^{-5} Ки$',size=20)\n",
    "\n",
    "#Легенда\n",
    "#plt.text(0.7,1600,'T=30 C',size=14)\n",
    "\n",
    "\n",
    "plt.grid()\n",
    "plt.show()"
   ]
  },
  {
   "cell_type": "markdown",
   "metadata": {},
   "source": [
    "Найдем коэффициенты линейной зависимости $y=a+bx$:"
   ]
  },
  {
   "cell_type": "code",
   "execution_count": 17,
   "metadata": {
    "collapsed": false
   },
   "outputs": [
    {
     "name": "stdout",
     "output_type": "stream",
     "text": [
      "2.2065471457243775 ангстрем/дел, 0.08864443151089334 ангстрем/дел\n",
      "1184.471238526652 ангстрем, 19.657016646384996 ангстрем\n"
     ]
    }
   ],
   "source": [
    "import numpy as np\n",
    "     #int(input())\n",
    "def linearfunc_koeff(x1, y1):\n",
    "    sumxy=0\n",
    "    sumx2=0\n",
    "    sumy2=0\n",
    "    sumx=0\n",
    "    sumy=0\n",
    "    \n",
    "    n=len(x1)\n",
    "\n",
    "    for x,y in zip(x1, y1):\n",
    "        sumx+=x\n",
    "        sumy+=y\n",
    "        sumxy+=x*y\n",
    "        sumx2+=x**2\n",
    "        sumy2+=y**2\n",
    "\n",
    "    sr_xy=sumxy/n\n",
    "    sr_x2=sumx2/n\n",
    "    sr_y2=sumy2/n\n",
    "    srx=sumx/n\n",
    "    sry=sumy/n\n",
    "\n",
    "    b=(sr_xy-srx*sry)/(sr_x2-srx**2)\n",
    "    sigmab=(1/n**0.5)*((sr_y2-sry**2)/(sr_x2-srx**2)-b**2)**0.5\n",
    "    a=sry-b*srx\n",
    "    sigmaa=sigmab*(sr_x2-srx**2)**0.5\n",
    "    \n",
    "    return (b, sigmab, a, sigmaa)\n",
    "\n",
    "x0=[2142, 2160, 2224, 2279, 2333, 2360, 2386, 2426, 2454, 2490, 2556, 2590, 1878, 1828]\n",
    "y0=[5852, 5882, 6030, 6143, 6267, 6334, 6402, 6507, 6599, 6717, 6929, 7032, 5401, 5331]\n",
    "\n",
    "b, sigmab, a, sigmaa = linearfunc_koeff(x0, y0)\n",
    "\n",
    "print(b, 'ангстрем/дел,', sigmab, 'ангстрем/дел')\n",
    "print(a, 'ангстрем,', sigmaa, 'ангстрем')"
   ]
  },
  {
   "cell_type": "markdown",
   "metadata": {},
   "source": [
    "***На одном листе посторим серию графиков $\\sqrt{I}=f(V)$ :***\n"
   ]
  },
  {
   "cell_type": "code",
   "execution_count": 34,
   "metadata": {
    "collapsed": false
   },
   "outputs": [
    {
     "data": {
      "image/png": "[encoded data removed]",
      "text/plain": [
       "<matplotlib.figure.Figure at 0x157f2166cf8>"
      ]
     },
     "metadata": {},
     "output_type": "display_data"
    }
   ],
   "source": [
    "import numpy as np\n",
    "x1=[ 0.078, 0.108, 0.152, 0.2, 0.285, 0.502, 1.044, 1.283]\n",
    "y1=[ 0.059, 0.062, 0.069, 0.076, 0.090, 0.126, 0.246, 0.298]\n",
    "z1=[]\n",
    "n=len(x1)\n",
    "for i in range(n):\n",
    "    z1.append(np.sqrt(y1[i]))\n",
    "\n",
    "x2= [0.086, 0.178, 0.242, 0.469, 0.526, 0.634, 0.801, 1.092]\n",
    "y2=[ 0.053, 0.067, 0.077, 0.123, 0.132, 0.156, 0.195, 0.270]\n",
    "z2=[]\n",
    "n=len(x2)\n",
    "for i in range(n):\n",
    "    z2.append(np.sqrt(y2[i]))\n",
    "    \n",
    "x3=[ 0.08, 0.106, 0.145, 0.265, 0.310, 0.600, 0.866, 1.164, 1.361]\n",
    "y3=[ 0.066, 0.071, 0.076, 0.101, 0.110, 0.181, 0.250, 0.332, 0.365]\n",
    "z3=[]\n",
    "n=len(x3)\n",
    "for i in range(n):\n",
    "    z3.append(np.sqrt(y3[i]))\n",
    "\n",
    "x4=[0.082, 0.119, 0.166, 0.260, 0.308, 0.562, 0.721, 0.830, 0.999, 1.207, 1.327]\n",
    "y4=[ 0.049, 0.055, 0.065, 0.087, 0.093, 0.187, 0.23, 0.255, 0.3, 0.352, 0.376]\n",
    "z4=[]\n",
    "n=len(x4)\n",
    "for i in range(n):\n",
    "    z4.append(np.sqrt(y4[i]))\n",
    "\n",
    "x5=[ 0.064, 0.130, 0.155, 0.196, 0.253, 0.294, 0.367, 0.508, 0.551, 0.686, 0.76, 0.830, 0.945, 1.127, 1.344, 1.487]\n",
    "y5=[ 0.023, 0.032, 0.035, 0.042, 0.060, 0.06, 0.074, 0.098, 0.106, 0.14, 0.15, 0.161, 0.195, 0.240, 0.292, 0.325]\n",
    "z5=[]\n",
    "n=len(x5)\n",
    "for i in range(n):\n",
    "    z5.append(np.sqrt(y5[i]))\n",
    "    \n",
    "    \n",
    "\n",
    "    \n",
    "plt.plot(x1,z1, 'bo', x2, z2, 'ro', x3, y3, 'go', x4, y4, 'yo', x5, y5, 'mo')\n",
    "plt.xlabel('$V$',size=20)\n",
    "plt.ylabel('$\\sqrt{I}$',size=20)\n",
    "\n",
    "#Легенда\n",
    "#plt.text(0.7,1600,'T=30 C',size=14)\n",
    "\n",
    "\n",
    "plt.grid()\n",
    "plt.show()"
   ]
  },
  {
   "cell_type": "markdown",
   "metadata": {},
   "source": [
    "***Для каждой длины волны определим величину запирающего потенциала, экстраполируя полученные кривые к оси абсцисс:***\n",
    "\n",
    "Какова функциональная зависимость $I(V)$ ? Расчет для простейшей геометрии - плоский катод, освещаемый светом, и параллельный ему анод - приводит к зависимости\n",
    "\n",
    "$\\sqrt{I}$ ~ $(V_0 + V)$ => $\\sqrt{I}$ = $k(V_0 + V)$, где $V_0 >0$\n"
   ]
  },
  {
   "cell_type": "markdown",
   "metadata": {},
   "source": [
    "Тогда из $\\sqrt{I}=a+Vb$ получаем"
   ]
  },
  {
   "cell_type": "code",
   "execution_count": 36,
   "metadata": {
    "collapsed": false
   },
   "outputs": [
    {
     "name": "stdout",
     "output_type": "stream",
     "text": [
      "Для 540 нм:\n",
      "запирающее напряжение = 0.22457073145 \n",
      " погрешность = 0.00116463150002\n",
      "Для 560 нм:\n",
      "запирающее напряжение = 0.20907328172 \n",
      " погрешность = 0.00121637208659\n",
      "Для 593 нм:\n",
      "запирающее напряжение = 0.241711087933 \n",
      " погрешность = 0.00358414281091\n",
      "Для 626 нм:\n",
      "запирающее напряжение = 0.210655579835 \n",
      " погрешность = 0.00637195379582\n",
      "Для 671 нм:\n",
      "запирающее напряжение = 0.154928814864 \n",
      " погрешность = 0.00311612937016\n"
     ]
    }
   ],
   "source": [
    "b, sigmab, a, sigmaa = linearfunc_koeff(x1, z1)\n",
    "#print('k*V_0 =', a, '\\n', '\\sigma_{k*V_0} =' , sigmaa)\n",
    "print('Для 540 нм:')\n",
    "print('запирающее напряжение =', a, '\\n', 'погрешность =' , sigmaa)\n",
    "\n",
    "b, sigmab, a, sigmaa = linearfunc_koeff(x2, z2)\n",
    "print('Для 560 нм:')\n",
    "print('запирающее напряжение =', a, '\\n', 'погрешность =' , sigmaa)\n",
    "\n",
    "b, sigmab, a, sigmaa = linearfunc_koeff(x3, z3)\n",
    "print('Для 593 нм:')\n",
    "print('запирающее напряжение =', a, '\\n', 'погрешность =' , sigmaa)\n",
    "\n",
    "b, sigmab, a, sigmaa = linearfunc_koeff(x4, z4)\n",
    "print('Для 626 нм:')\n",
    "print('запирающее напряжение =', a, '\\n', 'погрешность =' , sigmaa)\n",
    "\n",
    "b, sigmab, a, sigmaa = linearfunc_koeff(x5, z5)\n",
    "print('Для 671 нм:')\n",
    "print('запирающее напряжение =', a, '\\n', 'погрешность =' , sigmaa)"
   ]
  },
  {
   "cell_type": "markdown",
   "metadata": {},
   "source": [
    " ***Также оценим ошибку в определении $V_0$:***\n",
    " \n",
    " $\\lambda$, нм | 540 | 560 | 593 | 626 |  671\n",
    " :---: | :---: | :---: | :---: | :---: |:---:\n",
    " $V_0$ ~ | 0.2246 | 0.209 | 0.242 |  0.211 | 0.155\n",
    " $\\sigma_{V_0}$ ~ | 0.0012 | 0.0012 | 0.004 | 0.006 | 0.003"
   ]
  },
  {
   "cell_type": "markdown",
   "metadata": {},
   "source": [
    "***Построим график зависимости $V_0(w)$***\n",
    "\n"
   ]
  },
  {
   "cell_type": "code",
   "execution_count": 45,
   "metadata": {
    "collapsed": false
   },
   "outputs": [
    {
     "data": {
      "image/png": "[encoded data removed]",
      "text/plain": [
       "<matplotlib.figure.Figure at 0x157f2174b38>"
      ]
     },
     "metadata": {},
     "output_type": "display_data"
    }
   ],
   "source": [
    "import matplotlib.pyplot as plt\n",
    "import numpy as np\n",
    "\n",
    "#15.802*10(-34)\n",
    "la=[540, 560, 593, 626, 671] # нм\n",
    "V=[0.225, 0.209, 0.242, 0.211, 0.155]\n",
    "x=[0]\n",
    "y=[0]\n",
    "w=[]\n",
    "n=len(la)\n",
    "for i in range(n):\n",
    "    w.append(2*np.pi*3*10**(17)/la[i])\n",
    "    #la[i]=la[i]\n",
    "yerrs=[0.0012, 0.0012, 0.004, 0.006, 0.003]\n",
    "pogreshnost=3.873353525443931e-17\n",
    "\n",
    "    #yerrs.append(np.sqrt(0.01**2 + w[i]**2*(3.873353525443931e-17)**2)) #+ (8.285595259839353e-17 )**2*()**2))\n",
    "\n",
    "plt.errorbar(w,V, yerr=yerrs, fmt='bo') \n",
    "plt.xlabel('$w, Гц$',size=20)\n",
    "plt.ylabel('$V_0$',size=20)\n",
    "\n",
    "#Легенда\n",
    "#plt.text(0.7,1600,'T=30 C',size=14)\n",
    "\n",
    "\n",
    "plt.grid()\n",
    "plt.show()"
   ]
  },
  {
   "cell_type": "markdown",
   "metadata": {},
   "source": [
    "По графику определим постоянную Планка:\n",
    "\n",
    "$\\frac{\\partial V_0}{\\partial w}$ = $\\frac{h}{e}$"
   ]
  },
  {
   "cell_type": "code",
   "execution_count": 40,
   "metadata": {
    "collapsed": false
   },
   "outputs": [
    {
     "name": "stdout",
     "output_type": "stream",
     "text": [
      "h/e = 8.285595259839353e-17 \n",
      " погрешность = 3.873353525443931e-17\n",
      "a= -0.054346380223046775 sigmaa= 0.009436128699356245\n"
     ]
    }
   ],
   "source": [
    "b, sigmab, a, sigmaa = linearfunc_koeff(w, V)\n",
    "#print('k*V_0 =', a, '\\n', '\\sigma_{k*V_0} =' , sigmaa)\n",
    "print('h/e =', b, '\\n', 'погрешность =' , sigmab)\n",
    "print('a=', a, 'sigmaa=', sigmaa)"
   ]
  },
  {
   "cell_type": "code",
   "execution_count": 39,
   "metadata": {
    "collapsed": false
   },
   "outputs": [
    {
     "name": "stdout",
     "output_type": "stream",
     "text": [
      "1.3256952415742967e-35\n"
     ]
    }
   ],
   "source": [
    "h= (8.285595259839353e-17 ) * 1.6*10**(-19)\n",
    "print(h)"
   ]
  },
  {
   "cell_type": "markdown",
   "metadata": {
    "collapsed": true
   },
   "source": [
    "Вопросы:\n",
    "\n",
    "Магинтный орбитальный момент электронов, гиромагнитное отношение\n",
    "\n",
    "Четность, Е М фотоны\n",
    "\n",
    "Спин-орбитальное взаимодействие"
   ]
  },
  {
   "cell_type": "code",
   "execution_count": null,
   "metadata": {
    "collapsed": true
   },
   "outputs": [],
   "source": []
  }
 ],
 "metadata": {
  "kernelspec": {
   "display_name": "Python 3",
   "language": "python",
   "name": "python3"
  },
  "language_info": {
   "codemirror_mode": {
    "name": "ipython",
    "version": 3
   },
   "file_extension": ".py",
   "mimetype": "text/x-python",
   "name": "python",
   "nbconvert_exporter": "python",
   "pygments_lexer": "ipython3",
   "version": "3.5.2"
  }
 },
 "nbformat": 4,
 "nbformat_minor": 1
}
