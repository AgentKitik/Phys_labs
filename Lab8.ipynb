{
 "cells": [
  {
   "cell_type": "markdown",
   "metadata": {},
   "source": [
    "## Лабораторная работа 1.2.\n",
    "## Исследование эффекта Комптона."
   ]
  },
  {
   "cell_type": "markdown",
   "metadata": {},
   "source": [
    "**Описание: **\n",
    "\n",
    "1) С помощью сцинтилляционного спектрометра исследуется энергетический спектр $\\gamma$-квантов, рассеянных на графите.\n",
    "\n",
    "2) Определяется энергия рассеянных $\\gamma$-квантов в зависимости от угла рассеяния, а также энергия покоя частиц, на которых происходит комптоновское рассеяние."
   ]
  },
  {
   "cell_type": "markdown",
   "metadata": {},
   "source": [
    "***Немного теории:***\n",
    "\n",
    "$\\Large \\frac{1}{N(\\theta)}$ - $\\Large \\frac{1}{N(\\theta)}$ = $ A(1-cos\\theta)$\n",
    "\n",
    "где $N(\\theta)$ - номер канала, который соответствует энергии кванта, испытавшего комптоновское рассеяние на угол $\\theta$\n",
    "\n",
    "A - неизвестный коэффициент пропорциональности между $\\epsilon (\\theta)$ и $N(\\theta)$"
   ]
  },
  {
   "cell_type": "markdown",
   "metadata": {},
   "source": [
    "При $\\theta$=$90^o$ формула принимает вид: $\\Large mc^2(\\frac{1}{E(90)}-\\frac{1}{E(0)})=1$\n",
    "\n",
    "или: $\\Large mc^2=E(0) \\frac{E(90)}{E(0)-E(90)} = E_{\\gamma} \\frac{N(90)}{N(0)-N(90)}$ (4)\n",
    "\n",
    "где в формулу (4) лучше подставить $N_{наил} (0)$ и $N_{наил} (90)$, полученные с помощью графика.\n",
    "\n",
    "$E(0)=E_{\\gamma}$ - энергия электронов, рассеянных вперед - равна энергии $\\gamma$-лучей, испускаемых источником (в нашем случае $^{137}Cs$). \n",
    "\n",
    "Здесь $E(0)=E_{\\gamma}=662$ кэВ."
   ]
  },
  {
   "cell_type": "markdown",
   "metadata": {},
   "source": [
    "***Обработка результатов:***\n",
    "\n",
    "* Положения фотопиков для каждого значения угла $\\theta$:"
   ]
  },
  {
   "cell_type": "code",
   "execution_count": 21,
   "metadata": {
    "collapsed": false
   },
   "outputs": [],
   "source": [
    "import numpy as np\n",
    "thetaC=np.array([0, 10, 20, 30, 40, 50, 60, 70, 80, 90, 100, 110])#, 120])\n",
    "theta=thetaC*np.pi/180\n",
    "N=[741, 744, 695, 613, 565, 496, 432, 388, 346, 304, 282, 273]#, 241]\n",
    "N_errs=[20, 60, 47, 49, 37, 60, 20, 47, 33, 40, 33, 37]#, 75]"
   ]
  },
  {
   "cell_type": "markdown",
   "metadata": {},
   "source": [
    "* Построим график, откладывая по оси абсцисс величину $1-cos\\theta$, а по оси ординат величину 1/N($\\theta$) и ее ошибку. Проведем через полученные точки наилучшую прямую.\n",
    "\n",
    "$\\Delta (\\frac{1}{N}) = \\frac{\\Delta N}{N}$"
   ]
  },
  {
   "cell_type": "code",
   "execution_count": 22,
   "metadata": {
    "collapsed": false
   },
   "outputs": [],
   "source": [
    "N_inv=[1/n for n in N]\n",
    "err_N_inv=[]\n",
    "for i in range(len(N)):\n",
    "    err_N_inv.append(N_errs[i]/N[i]**2)\n",
    "\n",
    "import numpy as np\n",
    "coss=[(1-np.cos(t)) for t in theta]"
   ]
  },
  {
   "cell_type": "code",
   "execution_count": 23,
   "metadata": {
    "collapsed": false
   },
   "outputs": [
    {
     "data": {
      "image/png": "[encoded data removed]",
      "text/plain": [
       "<matplotlib.figure.Figure at 0x202bad26f98>"
      ]
     },
     "metadata": {},
     "output_type": "display_data"
    }
   ],
   "source": [
    "import numpy as np\n",
    "import matplotlib.pyplot as plt\n",
    "x=[0]\n",
    "y=[0]\n",
    "\n",
    "plt.errorbar(coss,N_inv, yerr=err_N_inv, fmt='bo') \n",
    "#plt.plot(x,y,'w-',coss,N_inv,'bo')\n",
    "plt.xlabel('$1-cosθ$',size=20)\n",
    "plt.ylabel('$1/N$',size=20)\n",
    "\n",
    "#Легенда\n",
    "#plt.text(0.7,1600,'T=30 C',size=14)\n",
    "\n",
    "\n",
    "plt.grid()\n",
    "plt.show()"
   ]
  },
  {
   "cell_type": "code",
   "execution_count": 24,
   "metadata": {
    "collapsed": true
   },
   "outputs": [],
   "source": [
    "def linearfunc_koeff(x1, y1):\n",
    "    sumxy=0\n",
    "    sumx2=0\n",
    "    sumy2=0\n",
    "    sumx=0\n",
    "    sumy=0\n",
    "    \n",
    "    n=len(x1)\n",
    "\n",
    "    for x,y in zip(x1, y1):\n",
    "        sumx+=x\n",
    "        sumy+=y\n",
    "        sumxy+=x*y\n",
    "        sumx2+=x**2\n",
    "        sumy2+=y**2\n",
    "\n",
    "    sr_xy=sumxy/n\n",
    "    sr_x2=sumx2/n\n",
    "    sr_y2=sumy2/n\n",
    "    srx=sumx/n\n",
    "    sry=sumy/n\n",
    "\n",
    "    b=(sr_xy-srx*sry)/(sr_x2-srx**2)\n",
    "    sigmab=(1/n**0.5)*((sr_y2-sry**2)/(sr_x2-srx**2)-b**2)**0.5\n",
    "    a=sry-b*srx\n",
    "    sigmaa=sigmab*(sr_x2-srx**2)**0.5\n",
    "    \n",
    "    return (b, sigmab, a, sigmaa) #y=a+bx"
   ]
  },
  {
   "cell_type": "code",
   "execution_count": 26,
   "metadata": {
    "collapsed": false
   },
   "outputs": [
    {
     "name": "stdout",
     "output_type": "stream",
     "text": [
      "1/N =0.00136 + 0.00183 * (1-cosθ)\n",
      "0.00136042938027 0.00182609265732\n",
      "1.68e-05, 3.73e-05\n"
     ]
    }
   ],
   "source": [
    "b, sigmab, a, sigmaa = linearfunc_koeff(coss, N_inv)\n",
    "\n",
    "print('1/N ={:.3} + {:.3} * (1-cosθ)'.format(a,b))\n",
    "print(a,b)\n",
    "print('{:.3}, {:.3}'.format(sigmaa, sigmab))"
   ]
  },
  {
   "cell_type": "markdown",
   "metadata": {},
   "source": [
    "* Получаем аппроксимацию:\n",
    "\n",
    "$\\frac {1}{N} = a + b(1-cosθ)$\n",
    "\n",
    "a = 0.001356 $\\pm$ 0.000016\n",
    "\n",
    "b = 0.00184 $\\pm$ 0.00003\n"
   ]
  },
  {
   "cell_type": "markdown",
   "metadata": {},
   "source": [
    "* Определим энергию покоя частицы, на которой происходит комптоновское рассеяние первичных $\\gamma$-квантов.\n",
    "\n",
    "$ mc^2= E_{\\gamma} \\frac{N(90)}{N(0)-N(90)}$\n",
    "\n",
    "И подставим $N_{наил} (0)$ и $N_{наил} (90)$, полученные с помощью графика.\n",
    "\n",
    "$\\Large N = \\frac{1}{a + b(1-cosθ)}$\n",
    "\n",
    "$\\Large \\Delta N = \\sqrt {N^4 (\\Delta a)^2 + N^4(1-cosθ)^2 (\\Delta b)^2} $"
   ]
  },
  {
   "cell_type": "code",
   "execution_count": 30,
   "metadata": {
    "collapsed": false
   },
   "outputs": [
    {
     "name": "stdout",
     "output_type": "stream",
     "text": [
      "735.2941176470588 313.4796238244514\n",
      "9.09938795268 4.0232725718\n"
     ]
    }
   ],
   "source": [
    "N_0=1/0.00136\n",
    "N_90=1/(0.00136+0.00183*1)\n",
    "\n",
    "sigmaN_0=np.sqrt( sigmaa**2*N_0**4 )\n",
    "sigmaN_90=np.sqrt( sigmaa**2*N_90**4 + sigmab**2*N_90**4 )\n",
    "\n",
    "print(N_0, N_90)\n",
    "print(sigmaN_0, sigmaN_90)"
   ]
  },
  {
   "cell_type": "code",
   "execution_count": 31,
   "metadata": {
    "collapsed": false
   },
   "outputs": [
    {
     "name": "stdout",
     "output_type": "stream",
     "text": [
      "491.0094786729858\n"
     ]
    }
   ],
   "source": [
    "mc2=662*313/(735-313) #в кэВ\n",
    "print(mc2)"
   ]
  },
  {
   "cell_type": "markdown",
   "metadata": {},
   "source": [
    "По размерам величин видно, что погрешность $mc^2$ будет определяться в основном $\\Delta N(90)$"
   ]
  },
  {
   "cell_type": "markdown",
   "metadata": {},
   "source": [
    "$\\Large \\Delta (mc^2) = E_{\\gamma} \\frac{N(0)}{(N(0)-N(90))^2} \\Delta N(90)$"
   ]
  },
  {
   "cell_type": "code",
   "execution_count": 32,
   "metadata": {
    "collapsed": false
   },
   "outputs": [
    {
     "name": "stdout",
     "output_type": "stream",
     "text": [
      "24.861802273845534\n"
     ]
    }
   ],
   "source": [
    "sigma_mc2=662*735*9.09938795268/(735-313)**2 #в кэВ\n",
    "print(sigma_mc2)"
   ]
  },
  {
   "cell_type": "markdown",
   "metadata": {},
   "source": [
    "* Итак, получилось значение $mc^2$=489 кэВ ."
   ]
  },
  {
   "cell_type": "markdown",
   "metadata": {},
   "source": [
    "Вопросы\n",
    "\n",
    "излучение Хокинга\n",
    "\n",
    "прохождение гамма квантов через вещество"
   ]
  }
 ],
 "metadata": {
  "kernelspec": {
   "display_name": "Python 3",
   "language": "python",
   "name": "python3"
  },
  "language_info": {
   "codemirror_mode": {
    "name": "ipython",
    "version": 3
   },
   "file_extension": ".py",
   "mimetype": "text/x-python",
   "name": "python",
   "nbconvert_exporter": "python",
   "pygments_lexer": "ipython3",
   "version": "3.5.2"
  }
 },
 "nbformat": 4,
 "nbformat_minor": 1
}
