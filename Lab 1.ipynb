{
 "cells": [
  {
   "cell_type": "markdown",
   "metadata": {
    "collapsed": true
   },
   "source": [
    "## Лабораторная работа 4.3.\n",
    "## Измерение абсолютной активности препарата $^{60}Co$ методом $\\gamma$-$\\gamma$ - совпадений.\n",
    "\n",
    "\n",
    "\n",
    "***Величины, непосредственно измеренные в ходе эксперимента: ***\n",
    "\n",
    "* Проверка работоспособности установки ($\\tau$ =0.2 мкс)\n",
    "\n",
    " \n",
    " | T, мин (с заглушкой)| $n_{1ф}$ (с заглушкой)| T, мин (без заглушки)| $n_{1п}$ (без заглушки)\n",
    "  :---: | :---: | :---: | :---: | :---: \n",
    " F1 | 1 | 1394 | 1 | 150550 \n",
    " F1 | 1 | 1445 | 1 | 151585 \n",
    "\n",
    " | T, мин (с заглушкой)| $n_{2ф}$ (с заглушкой)| T, мин (без заглушки)| $n_{2п}$ (без заглушки)\n",
    "  :---: | :---: | :---: | :---: | :---: \n",
    " F2 | 1 | 762 | 1 | 69417 \n",
    " F2 | 1 | 759 | 1 | 67732 \n",
    " \n",
    "* Измерение фона (с точностью ~ 1%) (т.е. с заглушкой)\n",
    "\n",
    "\n",
    " | T, мин | $n_{1ф}$ \n",
    "  :---: | :---: | :---: \n",
    " F1 | 8 | 12335 \n",
    "\n",
    "\n",
    " | T, мин | $n_{2ф}$ \n",
    "  :---: | :---: | :---: \n",
    " F2 | 13 | 10812 \n",
    "\n",
    "* Измерение скорости счета (с точностью ~ 0.5%) (т.е. без заглушек)\n",
    "\n",
    "\n",
    " | T, мин | $n_{1п}$ \n",
    "  :---: | :---: | :---: \n",
    " F1 | 1 | 148334 \n",
    "\n",
    "\n",
    " | T, мин | $n_{2п}$ \n",
    "  :---: | :---: | :---: \n",
    " F2 | 1 | 64163\n",
    " \n",
    " * Режим совпадений F1&F2 (точность ~ 1%) (без заглушек)\n",
    " \n",
    " \n",
    "  | T, мин | $n_{12п}$ | T, мин | $n_{12п}$ \n",
    "  :---: | :---: | :---: | :---: | :---: \n",
    " $\\tau$ =0.2 мкс | 1 | 155 | - | - \n",
    " $\\tau$ =0.5 мкс | 1 | 245 | - | - \n",
    " $\\tau$ =1.0 мкс | 1 | 381 | 19 | 6589 "
   ]
  },
  {
   "cell_type": "markdown",
   "metadata": {
    "collapsed": false
   },
   "source": [
    "\n",
    "\n",
    "***Определим $N_0$ в Ки по формуле (8) для всех значений разрешающих времен $\\tau$ и построим график зависимости $N_0(\\tau)$ :***\n",
    "\n",
    "\n",
    "<big> $N_0 = 1.08\\frac{N_1N_2}{2N_{совп}}$           (8) </big>\n",
    "\n",
    "\n",
    "$N_1=n_{1п}-n_{1ф}$ \n",
    "\n",
    "$N_2=n_{2п}-n_{2ф}$\n",
    "\n",
    "$n_{сл}= 2\\tau n_{1п}n_{2п}$ , $N_{совп}=n_{12п}-n_{сл}$ => $N_{совп}=n_{12п}-2\\tau n_{1п}n_{2п}$\n",
    "\n",
    "$ \\sigma_N = \\sqrt{N}$ (для статистических измерений)\n",
    "\n",
    "Для рассчета погрешности воспользуемся формулой $ a=f(b, c, e) => \\sigma^2_a=(\\frac{\\partial a}{\\partial b})^2\\sigma^2_b+(\\frac{\\partial a}{\\partial c})^2\\sigma^2_c+(\\frac{\\partial a}{\\partial e})^2\\sigma^2_e $. Тогда \n",
    "\n",
    "  | $ N_1, мин^{-1} $ | $ \\sigma_{N_1}, мин^{-1} $ | $ N_2, мин^{-1} $ | $ \\sigma_{N_2}, мин^{-1} $ | $ N_{совп}, мин^{-1} $ | $ \\sigma_{N_{совп}}, мин^{-1} $\n",
    "  :---: | :---: | :---: | :---: |  :---: | :---:  | :---: | :---: \n",
    " $\\tau$ =0.2 мкс | 146792 |387 | 63331 | 255 | 92 | 12.45\n",
    " $\\tau$ =0.5 мкс | 146792 | 387| 63331 | 255| 86 | 16\n",
    " $\\tau$ =1.0 мкс | 146792 | 387| 63331 | 255| 64  | 20\n",
    " $\\tau$ =1.0 мкс (точность ~ 1%) | 146792 |387 | 63331 | 255| 30  | 19\n",
    "\n",
    "\n"
   ]
  },
  {
   "cell_type": "markdown",
   "metadata": {
    "collapsed": true
   },
   "source": [
    "  | $ N_0, 10^{-5} Ки $ | $ \\sigma_{N_0}, 10^{-5} Ки $ | $ \\epsilon_{N_0} $, %\n",
    "  :---: | :---: | :---: | :---: \n",
    " $\\tau$ =0.2 мкс | 2.5 |0.4 | 16 \n",
    " $\\tau$ =0.5 мкс | 2.6 | 0.5| 19 \n",
    " $\\tau$ =1.0 мкс | 3.5 | 1.2| 34 \n",
    " $\\tau$ =1.0 мкс (точность ~ 1%) |  7.54  |4.77 | 63 "
   ]
  },
  {
   "cell_type": "markdown",
   "metadata": {},
   "source": [
    "Итог: \n",
    "\n",
    "\n",
    " $\\tau$ | $ N_0 \\pm \\sigma_{N_0}, 10^{-5} Ки $ | $\\epsilon_{N_0}$, %\n",
    "  :---: | :---: | :---: \n",
    " 0.2 мкс | 2.5 $\\pm$ 0.4 | 16\n",
    " 0.5 мкс | 2.6   $\\pm$ 0.5 | 19\n",
    " 1.0 мкс | 3.5  $\\pm$ 1.2 | 34\n",
    " 1.0 мкс (точность ~ 1%) |  8 $\\pm$ 5 | 63"
   ]
  },
  {
   "cell_type": "markdown",
   "metadata": {},
   "source": [
    "Теперь построим график:"
   ]
  },
  {
   "cell_type": "code",
   "execution_count": 5,
   "metadata": {
    "collapsed": false
   },
   "outputs": [
    {
     "data": {
      "image/png": "[encoded data removed]",
      "text/plain": [
       "<matplotlib.figure.Figure at 0x29fe7b4eb38>"
      ]
     },
     "metadata": {},
     "output_type": "display_data"
    }
   ],
   "source": [
    "import matplotlib.pyplot as plt\n",
    "import numpy as np\n",
    "\n",
    "x1=[1.0, 0.2, 0.5]\n",
    "y1=[3.5, 2.5, 2.6]\n",
    "x=[0, 1.1]\n",
    "y=[0, 8.1]\n",
    "\n",
    "n=len(x1)\n",
    "\n",
    "plt.plot( x1,y1,'bo', x, y, 'w-')\n",
    "plt.xlabel('$τ, мкс$',size=20)\n",
    "plt.ylabel('$N_0, 10^{-5} Ки$',size=20)\n",
    "\n",
    "#Легенда\n",
    "#plt.text(0.7,1600,'T=30 C',size=14)\n",
    "\n",
    "\n",
    "plt.grid()\n",
    "plt.show()\n"
   ]
  },
  {
   "cell_type": "markdown",
   "metadata": {},
   "source": [
    "Вопросы:\n",
    "* поглощенная и эквив доза \n",
    "* сколько надо сидеть у источника для летального исхода"
   ]
  },
  {
   "cell_type": "markdown",
   "metadata": {
    "collapsed": true
   },
   "source": [
    "Ответ:\n",
    "\n",
    "Ионизирующее излучение оказывает действие на вещество только тогда, когда оно взаимодействует с частицами, входящими в состав этого вещества. Поэтому часть излучения, которая проходит данное вещество (без поглощения) действия на него не оказывает.\n",
    "\n",
    "Основной характеристикой действия ионизирующего излучения на вещество является энергия ионизирующего излучения, поглощенного единицей массы вещества за время облучения. Эту характеристику называют **поглощенной дозой излучения** $Д_n$.\n",
    "\n",
    "Единицей измерения поглощенной дозы в СU является 1 Дж/кг. Внесистемная единица поглощенной дозы 1 рад (radiation absorbed dose)\n",
    "\n",
    "(1 рад = 10-2Дж/кг = 100 эрг/г).\n",
    "\n",
    "Поглощенная доза зависит как от природы и свойств излучения (от энергии частиц), так и от природы вещества, в котором оно поглощается.\n",
    "\n",
    "Непосредственное измерение поглощающей дозы в веществе, в глубине тканей живого организма затруднительно. Поэтому оценивают поглощенную телом дозу по ионизирующему действию излучения в воздухе, окружающем тело.\n",
    "\n",
    "$Д_{ЕД}$ – **Эквивалентная доза излучения** – мера биологического воздействия ионизирующего излучения на организм, характеризует степень радиоактивной опасности.\n",
    "\n",
    "3иверт (3в)\t«СU» - Грей (Гр)\n",
    "\n",
    "Внесистемная – бэр (биологический эквивалент рентгена)\n",
    "\n",
    "1 БЭР = 0,01Гр (3в)\tДЕД = КДП, К – коэффициент качества (ОБЭ)"
   ]
  },
  {
   "cell_type": "code",
   "execution_count": null,
   "metadata": {
    "collapsed": true
   },
   "outputs": [],
   "source": []
  }
 ],
 "metadata": {
  "kernelspec": {
   "display_name": "Python 3",
   "language": "python",
   "name": "python3"
  },
  "language_info": {
   "codemirror_mode": {
    "name": "ipython",
    "version": 3
   },
   "file_extension": ".py",
   "mimetype": "text/x-python",
   "name": "python",
   "nbconvert_exporter": "python",
   "pygments_lexer": "ipython3",
   "version": "3.5.2"
  }
 },
 "nbformat": 4,
 "nbformat_minor": 1
}
