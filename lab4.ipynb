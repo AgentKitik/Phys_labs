{
 "cells": [
  {
   "cell_type": "markdown",
   "metadata": {},
   "source": [
    "## Лабораторная работа 2.2 и 2.3\n",
    "## Изучение спектров атома водорода и молекулы йода."
   ]
  },
  {
   "cell_type": "markdown",
   "metadata": {
    "collapsed": true
   },
   "source": [
    "***Задание:***\n",
    "\n",
    "* прокалибровать барабан спектрометра по спектрам неона и ртути\n",
    "* определить координаты линий бальмеровской серии атомарного родорода; по результатам измерений рассчитать постоянную Ридберга\n",
    "* определить координаты нескольких линий молекулярного спектра йода; по результатам измерений вычислить энергию колебательного кванта молекулы йода и энергию ее диссоциации в основном и возбужденном состояниях\n"
   ]
  },
  {
   "cell_type": "markdown",
   "metadata": {},
   "source": [
    "***Градуировка спектрометра:***"
   ]
  },
  {
   "cell_type": "code",
   "execution_count": 7,
   "metadata": {
    "collapsed": true
   },
   "outputs": [],
   "source": [
    "l_neon=[5331, 5401, 5852, 5945, 6074, 6143, 6267, 6334, 6402, 6507, 6678] #в ангстремах\n",
    "del_neon=[1838, 1888, 2146, 2190, 2250, 2282, 2330, 2356, 2382, 2418, 2478]\n",
    "\n",
    "l_iod=[5791, 5770, 5461, 4916, 4358, 4047, 6907, 6234] # ангстрем\n",
    "del_iod=[2126, 2104, 1936, 1508, 840, 294, 2548, 2316]\n"
   ]
  },
  {
   "cell_type": "markdown",
   "metadata": {},
   "source": [
    "*** Спектры водорода и йода:***"
   ]
  },
  {
   "cell_type": "code",
   "execution_count": 8,
   "metadata": {
    "collapsed": true
   },
   "outputs": [],
   "source": [
    "spectr_H_del=[2438, 1452, 812, 398]\n",
    "spectr_I_del=[2300, 2212, 1650]"
   ]
  },
  {
   "cell_type": "markdown",
   "metadata": {},
   "source": [
    " <center>  ***Обработка результатов***  </center> "
   ]
  },
  {
   "cell_type": "code",
   "execution_count": 9,
   "metadata": {
    "collapsed": true
   },
   "outputs": [],
   "source": [
    "def linearfunc_koeff(x1, y1):\n",
    "    sumxy=0\n",
    "    sumx2=0\n",
    "    sumy2=0\n",
    "    sumx=0\n",
    "    sumy=0\n",
    "    \n",
    "    n=len(x1)\n",
    "\n",
    "    for x,y in zip(x1, y1):\n",
    "        sumx+=x\n",
    "        sumy+=y\n",
    "        sumxy+=x*y\n",
    "        sumx2+=x**2\n",
    "        sumy2+=y**2\n",
    "\n",
    "    sr_xy=sumxy/n\n",
    "    sr_x2=sumx2/n\n",
    "    sr_y2=sumy2/n\n",
    "    srx=sumx/n\n",
    "    sry=sumy/n\n",
    "\n",
    "    b=(sr_xy-srx*sry)/(sr_x2-srx**2)\n",
    "    sigmab=(1/n**0.5)*((sr_y2-sry**2)/(sr_x2-srx**2)-b**2)**0.5\n",
    "    a=sry-b*srx\n",
    "    sigmaa=sigmab*(sr_x2-srx**2)**0.5\n",
    "    \n",
    "    return (b, sigmab, a, sigmaa) #y=a+bx"
   ]
  },
  {
   "cell_type": "markdown",
   "metadata": {},
   "source": [
    "*** Строим градуировочную кривую:***"
   ]
  },
  {
   "cell_type": "code",
   "execution_count": 15,
   "metadata": {
    "collapsed": false
   },
   "outputs": [
    {
     "data": {
      "image/png": "[encoded data removed]",
      "text/plain": [
       "<matplotlib.figure.Figure at 0x1e6d069cb00>"
      ]
     },
     "metadata": {},
     "output_type": "display_data"
    }
   ],
   "source": [
    "import matplotlib.pyplot as plt\n",
    "import numpy as np\n",
    "\n",
    "plt.plot(del_neon,l_neon, 'bo')\n",
    "plt.xlabel('$Количество_. делений$',size=20)\n",
    "plt.ylabel('$\\lambda, А$',size=20)\n",
    "plt.title('$Неоновая_. лампа$', size=21)\n",
    "\n",
    "#Легенда\n",
    "#plt.text(0.7,1600,'T=30 C',size=14)\n",
    "\n",
    "plt.grid()\n",
    "plt.show()"
   ]
  },
  {
   "cell_type": "code",
   "execution_count": 21,
   "metadata": {
    "collapsed": false
   },
   "outputs": [
    {
     "name": "stdout",
     "output_type": "stream",
     "text": [
      "y=1487.71 + 2.06 * x\n"
     ]
    }
   ],
   "source": [
    "b, sigmab, a, sigmaa = linearfunc_koeff(del_neon, l_neon)\n",
    "\n",
    "print('y={:.6} + {:.3} * x'.format(a,b))"
   ]
  },
  {
   "cell_type": "markdown",
   "metadata": {},
   "source": [
    "**Определим длины волн для линий водорода:**"
   ]
  },
  {
   "cell_type": "code",
   "execution_count": 24,
   "metadata": {
    "collapsed": false
   },
   "outputs": [
    {
     "name": "stdout",
     "output_type": "stream",
     "text": [
      "[ 6509.99  4478.83  3160.43  2307.59]\n"
     ]
    }
   ],
   "source": [
    "spectr_H_del=np.array(spectr_H_del)\n",
    "spectr_H= spectr_H_del*2.06 + 1487.71 \n",
    "print(spectr_H)"
   ]
  },
  {
   "cell_type": "markdown",
   "metadata": {},
   "source": [
    "**Убедимся в том, что отношение длин волн водородных линий соответствуют формуле сериальной закономерности:**\n",
    "\n",
    "${\\displaystyle {\\frac {1}{\\lambda_{mn} }}=RZ^{2}\\left({\\frac {1}{n^{2}}}-{\\frac {1}{m^{2}}}\\right)}$\n",
    "\n",
    "R- постоянная Ридберга\n",
    "\n",
    "Мы будем исследовать серию Бальмера. Она соответствует $n = 2$ и $m$ от $n+1$ до $\\infty$. Для 3, 4, 5, 6 линии обозначаются соответственно $H_\\alpha, H_\\beta, H_\\gamma, H_\\delta$"
   ]
  },
  {
   "cell_type": "code",
   "execution_count": 31,
   "metadata": {
    "collapsed": false
   },
   "outputs": [
    {
     "name": "stdout",
     "output_type": "stream",
     "text": [
      "[0.68799337633391144, 0.70563740976996236, 0.73015064405792884]\n",
      "[0.7407407407407408, 0.8928571428571429, 0.9450000000000001]\n"
     ]
    }
   ],
   "source": [
    "otn_spectr_H=[]\n",
    "for i in range(3):\n",
    "    otn_spectr_H.append(spectr_H[i+1]/spectr_H[i])\n",
    "print(otn_spectr_H)\n",
    "\n",
    "otn_theor=[]\n",
    "for m in range(3, 6):\n",
    "    otn_theor.append((1/4-1/m**2)/(1/4-1/(m+1)**2))\n",
    "print(otn_theor)"
   ]
  },
  {
   "cell_type": "markdown",
   "metadata": {},
   "source": [
    "Видно, что отношения длин волн примерно соответствуют теоретическим."
   ]
  },
  {
   "cell_type": "markdown",
   "metadata": {},
   "source": [
    "**Для каждой из наблюдаемых линий Н вычислим значение постоянной Ридберга, определим ее среднее значение по всем измерениям и оценим погрешность измерения. Сравним результат опыта с расчетным значением R.**"
   ]
  },
  {
   "cell_type": "code",
   "execution_count": 39,
   "metadata": {
    "collapsed": false
   },
   "outputs": [
    {
     "name": "stdout",
     "output_type": "stream",
     "text": [
      "[ 11059924.82323322  11907871.77305978  15067268.57391166\n",
      "  19500864.53832787]\n"
     ]
    }
   ],
   "source": [
    "R=[]\n",
    "for i in range(4):\n",
    "    R.append(1/(spectr_H[i] *(1/4-1/(3+i)**2) )) #в 1/ангстрем\n",
    "    \n",
    "R=np.array(R)\n",
    "R=R*10**(10) #в 1/м\n",
    "print(R) "
   ]
  },
  {
   "cell_type": "code",
   "execution_count": 48,
   "metadata": {
    "collapsed": false
   },
   "outputs": [
    {
     "name": "stdout",
     "output_type": "stream",
     "text": [
      "14383982.4271\n",
      "3822296.23061\n"
     ]
    }
   ],
   "source": [
    "R_mean=sum(R)/4\n",
    "print(R_mean)\n",
    "\n",
    "sigma_R=np.sqrt((1/3)*sum((np.array(R)-R_mean)*(np.array(R)-R_mean)))\n",
    "print(sigma_R)"
   ]
  },
  {
   "cell_type": "markdown",
   "metadata": {},
   "source": [
    "Вывод:\n",
    "\n",
    "$R=(1.4 \\pm 0.4) 10^{7}$ $м^{-1}$\n",
    "\n",
    "$R_{теор} = 10973731.568508(65) м^{−1}$"
   ]
  },
  {
   "cell_type": "code",
   "execution_count": 22,
   "metadata": {
    "collapsed": false,
    "scrolled": false
   },
   "outputs": [
    {
     "data": {
      "image/png": "[encoded data removed]",
      "text/plain": [
       "<matplotlib.figure.Figure at 0x1e6d198dbe0>"
      ]
     },
     "metadata": {},
     "output_type": "display_data"
    }
   ],
   "source": [
    "import matplotlib.pyplot as plt\n",
    "import numpy as np\n",
    "\n",
    "plt.plot(del_iod,l_iod, 'bo')\n",
    "plt.xlabel('$Количество_. делений$',size=20)\n",
    "plt.ylabel('$\\lambda, А$',size=20)\n",
    "plt.title('$Ртуть$', size=21)\n",
    "\n",
    "#Легенда\n",
    "#plt.text(0.7,1600,'T=30 C',size=14)\n",
    "\n",
    "plt.grid()\n",
    "plt.show()"
   ]
  },
  {
   "cell_type": "markdown",
   "metadata": {},
   "source": [
    "***Определим длины волн линий поглощения йода, соответствующие делениям барабана монохроматора $n_{1,0}, n_{1,5}, n_{гр}$:***"
   ]
  },
  {
   "cell_type": "code",
   "execution_count": 51,
   "metadata": {
    "collapsed": true
   },
   "outputs": [],
   "source": [
    "spectr_I=[6200, 6000, 5100] # в А\n",
    "# определим погрешности\n",
    "sigma_spectr_I=[50, 50, 50]"
   ]
  },
  {
   "cell_type": "markdown",
   "metadata": {},
   "source": [
    "**Вычислим (в эВ) энергию колебательного кванта возбужденного состояния молекулы йода:**\n",
    "\n",
    "$\\displaystyle h\\nu_2 = \\frac{h\\nu_{1,5}-h\\nu_{1,0}}{5}$\n",
    "\n",
    "$\\displaystyle h \\nu = \\frac{hc}{\\lambda}$"
   ]
  },
  {
   "cell_type": "code",
   "execution_count": 54,
   "metadata": {
    "collapsed": false
   },
   "outputs": [
    {
     "name": "stdout",
     "output_type": "stream",
     "text": [
      "0.013341935483870956 0.00472215730144\n"
     ]
    }
   ],
   "source": [
    "E_I=4.136*10**(-15)*3*10**(10)*(1/6000-1/6200)*10**(8)/5\n",
    "sigma_E_I=(4.136*10**(-15)*3*10**(10)/5)*np.sqrt((50/6000)**2/(6000**2*10**(-16))+(50/6200)**2/(6200**2*10**(-16)))\n",
    "print(E_I, sigma_E_I)"
   ]
  },
  {
   "cell_type": "markdown",
   "metadata": {},
   "source": [
    "$\\displaystyle h\\nu_2 = (0.013 \\pm 0.004) $ эВ"
   ]
  },
  {
   "cell_type": "markdown",
   "metadata": {},
   "source": [
    "** Используя полученные в работе результаты, а также данные о том, что энергия колебательного кванта основного состояния $h\\nu_1=0.027$ эВ, а энергия возбуждения атома $E_A=0.94 $ эВ, вычислим:**\n",
    "* энергию электронного перехода $h\\nu_{эл}$\n",
    "* энергию диссоциации молекулы в основном состоянии $Д_1$\n",
    "* энергию диссоциации молекулы в возбужденном состоянии $Д_2$"
   ]
  },
  {
   "cell_type": "markdown",
   "metadata": {
    "collapsed": true
   },
   "source": [
    "Энергия диссоциации: $\\displaystyle h\\nu_{гр}=h\\nu_e + D'= E_a+D$\n",
    "\n",
    "где $E_a$ - энергия возбуждения атома, D и D' - энергия диссоциации в нормальном и возбужденном состоянии соответственно.\n",
    "\n",
    "Оптические переходы в молекулах соответствуют переходам между различными электронными состояниями в молекулах. При этом происходят изменения колебательного и вращательного состояний. В видимой области наблюдаются электронно-колебательные спектры молекул. В данной работе изучается серия Деландра:\n",
    "\n",
    "$\\displaystyle h\\nu_{0, n2}=h\\nu_e + h\\nu_2 (n_2 + \\frac{1}{2})-\\frac{1}{2} h\\nu_{кол}$"
   ]
  },
  {
   "cell_type": "markdown",
   "metadata": {
    "collapsed": true
   },
   "source": [
    "=> $\\displaystyle h\\nu_e = -h\\nu_{1, 0} +\\frac{1}{2}h\\nu_{кол} - \\frac{3}{2}h\\nu_2 $"
   ]
  },
  {
   "cell_type": "code",
   "execution_count": 59,
   "metadata": {
    "collapsed": false
   },
   "outputs": [
    {
     "name": "stdout",
     "output_type": "stream",
     "text": [
      "2.0012903225806453 0.00322788761707\n"
     ]
    }
   ],
   "source": [
    "E_10=4.136*10**(-15)*3*10**(10)*(1/6200)*10**(8)\n",
    "sigma_E_10=(4.136*10**(-15)*3*10**(10)/5)*np.sqrt((50/6200)**2/(6200**2*10**(-16)))\n",
    "print(E_10, sigma_E_10)"
   ]
  },
  {
   "cell_type": "code",
   "execution_count": 60,
   "metadata": {
    "collapsed": false
   },
   "outputs": [
    {
     "name": "stdout",
     "output_type": "stream",
     "text": [
      "1.9949999999999999 0.0949157521173\n"
     ]
    }
   ],
   "source": [
    "E_el=2.001+0.027/2-3*0.013/2\n",
    "sigma_E_el=np.sqrt(0.003**2+(9/4)*0.004)\n",
    "print(E_el, sigma_E_el)"
   ]
  },
  {
   "cell_type": "code",
   "execution_count": 61,
   "metadata": {
    "collapsed": false
   },
   "outputs": [
    {
     "name": "stdout",
     "output_type": "stream",
     "text": [
      "2.4329411764705884 0.00477047289504\n"
     ]
    }
   ],
   "source": [
    "#hгр\n",
    "E_gr=4.136*10**(-15)*3*10**(10)*(1/5100)*10**(8)\n",
    "sigma_E_gr=(4.136*10**(-15)*3*10**(10)/5)*np.sqrt((50/5100)**2/(5100**2*10**(-16)))\n",
    "print(E_gr, sigma_E_gr)\n"
   ]
  },
  {
   "cell_type": "code",
   "execution_count": 62,
   "metadata": {
    "collapsed": false
   },
   "outputs": [
    {
     "name": "stdout",
     "output_type": "stream",
     "text": [
      "0.4379999999999997 0.100079968026\n"
     ]
    }
   ],
   "source": [
    "D1=2.433-1.995\n",
    "sigma_D1=np.sqrt(0.004**2+0.10**2)\n",
    "print(D1, sigma_D1)"
   ]
  },
  {
   "cell_type": "code",
   "execution_count": 63,
   "metadata": {
    "collapsed": false
   },
   "outputs": [
    {
     "name": "stdout",
     "output_type": "stream",
     "text": [
      "1.4929999999999999 0.004\n"
     ]
    }
   ],
   "source": [
    "D2=2.433-0.94\n",
    "sigma_D2=np.sqrt(0.004**2)\n",
    "print(D2, sigma_D2)"
   ]
  },
  {
   "cell_type": "code",
   "execution_count": null,
   "metadata": {
    "collapsed": true
   },
   "outputs": [],
   "source": []
  }
 ],
 "metadata": {
  "kernelspec": {
   "display_name": "Python 3",
   "language": "python",
   "name": "python3"
  },
  "language_info": {
   "codemirror_mode": {
    "name": "ipython",
    "version": 3
   },
   "file_extension": ".py",
   "mimetype": "text/x-python",
   "name": "python",
   "nbconvert_exporter": "python",
   "pygments_lexer": "ipython3",
   "version": "3.5.2"
  }
 },
 "nbformat": 4,
 "nbformat_minor": 1
}
